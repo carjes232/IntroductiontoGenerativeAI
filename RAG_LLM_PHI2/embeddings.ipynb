{
 "cells": [
  {
   "cell_type": "markdown",
   "id": "2f95675b",
   "metadata": {},
   "source": [
    "We will use the BBC News Classification Dataset"
   ]
  },
  {
   "cell_type": "code",
   "execution_count": 1,
   "id": "d566bb99-6808-4976-8476-ed05b7941b80",
   "metadata": {},
   "outputs": [],
   "source": [
    "import pandas as pd\n",
    "url = \"https://raw.githubusercontent.com/susanli2016/PyCon-Canada-2019-NLP-Tutorial/master/bbc-text.csv\"\n",
    "df  = pd.read_csv(url)\n",
    "df = df.sample(n=1000, random_state=42)  # Sample 1000 rows for faster processing"
   ]
  },
  {
   "cell_type": "code",
   "execution_count": 2,
   "id": "a46287a6",
   "metadata": {},
   "outputs": [
    {
     "data": {
      "text/html": [
       "<div>\n",
       "<style scoped>\n",
       "    .dataframe tbody tr th:only-of-type {\n",
       "        vertical-align: middle;\n",
       "    }\n",
       "\n",
       "    .dataframe tbody tr th {\n",
       "        vertical-align: top;\n",
       "    }\n",
       "\n",
       "    .dataframe thead th {\n",
       "        text-align: right;\n",
       "    }\n",
       "</style>\n",
       "<table border=\"1\" class=\"dataframe\">\n",
       "  <thead>\n",
       "    <tr style=\"text-align: right;\">\n",
       "      <th></th>\n",
       "      <th>category</th>\n",
       "      <th>text</th>\n",
       "    </tr>\n",
       "  </thead>\n",
       "  <tbody>\n",
       "  </tbody>\n",
       "</table>\n",
       "</div>"
      ],
      "text/plain": [
       "Empty DataFrame\n",
       "Columns: [category, text]\n",
       "Index: []"
      ]
     },
     "execution_count": 2,
     "metadata": {},
     "output_type": "execute_result"
    }
   ],
   "source": [
    "df[df.isna().any(axis=1)]  # Check for any NaN values in the DataFrame"
   ]
  },
  {
   "cell_type": "markdown",
   "id": "31e3df18",
   "metadata": {},
   "source": [
    "There is not any NaN value"
   ]
  },
  {
   "cell_type": "code",
   "execution_count": 3,
   "id": "c09ae204",
   "metadata": {},
   "outputs": [],
   "source": [
    "data = df.to_dict('records')  # Convert DataFrame to a list of dictionaries"
   ]
  },
  {
   "cell_type": "code",
   "execution_count": 4,
   "id": "af8bce2c-e123-498a-a5f2-cefffd17fc74",
   "metadata": {},
   "outputs": [
    {
     "name": "stderr",
     "output_type": "stream",
     "text": [
      "e:\\user\\Documents\\Repos\\IntroductiontoGenerativeAI\\.venv\\Lib\\site-packages\\tqdm\\auto.py:21: TqdmWarning: IProgress not found. Please update jupyter and ipywidgets. See https://ipywidgets.readthedocs.io/en/stable/user_install.html\n",
      "  from .autonotebook import tqdm as notebook_tqdm\n"
     ]
    }
   ],
   "source": [
    "from qdrant_client import models, QdrantClient\n",
    "from sentence_transformers import SentenceTransformer"
   ]
  },
  {
   "cell_type": "code",
   "execution_count": 5,
   "id": "2b0e4be5-7518-4458-bf47-6913ef9a72a9",
   "metadata": {},
   "outputs": [],
   "source": [
    "encoder = SentenceTransformer('all-MiniLM-L6-v2') # Model to create embeddings"
   ]
  },
  {
   "cell_type": "code",
   "execution_count": 6,
   "id": "5efa031d-b18a-4db1-9c34-9989a15c822b",
   "metadata": {},
   "outputs": [],
   "source": [
    "# create the vector database client\n",
    "qdrant = QdrantClient(\":memory:\") # Create in-memory Qdrant instance"
   ]
  },
  {
   "cell_type": "code",
   "execution_count": 9,
   "id": "6c03be93-a076-425e-8df1-5a8b6367e558",
   "metadata": {},
   "outputs": [
    {
     "name": "stderr",
     "output_type": "stream",
     "text": [
      "C:\\Users\\user\\AppData\\Local\\Temp\\ipykernel_23960\\1224430878.py:2: DeprecationWarning: `recreate_collection` method is deprecated and will be removed in the future. Use `collection_exists` to check collection existence and `create_collection` instead.\n",
      "  qdrant.recreate_collection(\n"
     ]
    },
    {
     "data": {
      "text/plain": [
       "True"
      ]
     },
     "execution_count": 9,
     "metadata": {},
     "output_type": "execute_result"
    }
   ],
   "source": [
    "# Create collection to store wines\n",
    "qdrant.recreate_collection(\n",
    "    collection_name=\"bbc_news\",\n",
    "    vectors_config=models.VectorParams(\n",
    "        size=encoder.get_sentence_embedding_dimension(), # Vector size is defined by used model\n",
    "        distance=models.Distance.COSINE\n",
    "    )\n",
    ")"
   ]
  },
  {
   "cell_type": "code",
   "execution_count": 10,
   "id": "655d08af-758f-4338-b112-cf94045c7b0d",
   "metadata": {},
   "outputs": [],
   "source": [
    "# vectorize!\n",
    "qdrant.upload_points(\n",
    "    collection_name=\"bbc_news\",\n",
    "    points=[\n",
    "        models.PointStruct(\n",
    "            id=idx,\n",
    "            vector=encoder.encode(doc[\"text\"]).tolist(),\n",
    "            payload=doc,\n",
    "        ) for idx, doc in enumerate(data) # data is the variable holding all the bbc_news\n",
    "    ]\n",
    ")"
   ]
  },
  {
   "cell_type": "code",
   "execution_count": 11,
   "id": "f23bc999",
   "metadata": {},
   "outputs": [],
   "source": [
    "user_prompt = \"How did the stock market react to major banking news?\""
   ]
  },
  {
   "cell_type": "code",
   "execution_count": 12,
   "id": "68c9bff5-db38-4a98-b542-cd173af11b53",
   "metadata": {},
   "outputs": [
    {
     "name": "stdout",
     "output_type": "stream",
     "text": [
      "{'category': 'business', 'text': 'stock market eyes japan recovery japanese shares have ended the year at their highest level since 13 july amidst hopes of an economic recovery during 2005.  the nikkei index of leading shares gained 7.6% during the year to close at 11 488.76 points. in 2005 it  will rise toward 13 000   predicted morgan stanley equity strategist naoki kamiyama. the optimism in the financial markets contrast sharply with pessimism in the japanese business community. earlier this month  the quarterly tankan survey of japanese manufacturers found that business confidence had weakened for the first time since march 2003.  slower economic growth  rising oil prices  a stronger yen and weaker exports were blamed for the fall in confidence. despite this  traders expect strength in the global economy to benefit japan  which has been close to sliding into recession in recent months. structural reform within japan and an anticipated end to the banking sector s bad debt problems should also help  they say.'} score: 0.4771250461009009\n",
      "{'category': 'business', 'text': 'irish markets reach all-time high irish shares have risen to a record high  with investors persuaded to buy into the market by low inflation and strong growth forecasts.  the iseq index of leading shares closed up 23 points to 6661.89 on thursday  fuelled by strong growth in banking and financial stocks. a fall in the rate of inflation to 2.3% in january gave a fresh boost to shares which have advanced 4% this month. the economy is set for strong growth in 2005 while interest rates remain low.  several of ireland s biggest companies saw their market value hit recent highs on thursday. allied irish banks  ireland s biggest company by capitalisation  touched a five year peak while bank of ireland shares rose to their highest level since august 2002.  telecoms firm eircom  which recently revealed that it would re-enter the irish mobile phone market  hit a yearly high. analysts said that economic conditions were benign and irish shares were still trading at a discount to other european markets.  ireland ticks all the boxes as far as international investors are concerned   roy asher  chief investment officer of hibernian investment managers  told reuters.  buoyant economic conditions are set to continue in ireland over the next few years and irish equities continue to offer quality growth at a reasonable valuation.   bernard mcalinden  head of equity research at ncb stockbrokers  said equities represented good value compared to other investments.  it is still looking good   he told reuters.  we have seen good economic data on ireland which benefits the financial stocks.  ireland s economic  miracle  is enjoying a second wind  with 5% growth forecast for 2005 and 2006. the economy cooled markedly between 2001 and 2003 after enjoying spectacular growth of more than 10% in 2000. however  it has bounced back strongly with growth of just under 5% expected in 2004.'} score: 0.47587167620866533\n",
      "{'category': 'business', 'text': 'us interest rates increased to 2% us interest rates are to rise for the fourth time in five months  in a widely anticipated move.  the federal reserve has raised its key federal funds rate by a quarter percentage point to 2% in light of mounting evidence that the us economy is regaining steam. us companies created twice as many jobs as expected in october while exports hit record levels in september. analysts said a clear-cut victory for president bush in last week s election paved the way for a rise. another rise could be in store for december  some economists warned.  the fed s open market committee - which sets interest rate policy in the us - voted unanimously in favour of a quarter point rise. the fed has been gradually easing rates up since the summer  with quarter percentage point rises in june  august and september.  the central bank has been acting to restrain inflationary pressures while being careful not to obstruct economic growth. the fed did not rule out raising rates once again in december but noted that any future increases would take place at a  measured  pace. in a statement  the fed said that long-term inflation pressures remained  well contained  while the us economy appeared to be  growing at a moderate pace despite the rise in energy prices . financial analysts broadly welcomed the fed s move and shares traded largely flat. the dow jones industrial average closed down 0.89 points  or 0.01%  at 10 385.48.  recent evidence has pointed to an upturn in the us economy. us firms created 337 000 jobs last month  twice the amount expected  while exports reached record levels in september. the economy grew 3.7% in the third quarter  slower than forecast  but an improvement on the 3.3% growth seen in the second quarter. analysts claimed the fed s assessment of future economic growth was a positive one but stressed that the jury was still out on the prospect of a further rise in december.   let s wait until we see how growth and employment bear up under the fourth quarter s energy price drag before concluding that the fed has more work to do in 2005   said avery shenfeld  senior economist at cibc world markets.   i think the federal reserve does not want to rock the boat and is using a gradual approach in raising the interest rate   said sung won sohn  chief us economist for wells fargo bank.  the economy is doing a bit better right now but there are still some concerns about geopolitics  employment and the price of oil   he added. the further rise in us rates is unlikely to have a direct bearing on uk monetary policy. the bank of england (boe) has kept interest rates on hold at 4.75% for the past three months  leading some commentators to argue that rates may have peaked. in a report published on wednesday  the bank said that with rates at their current level  inflation would rise to its 2% target within two years. however  boe governor mervyn king warned only last month that the era of consistently low inflation and low unemployment may be coming to an end.'} score: 0.43399604352354126\n"
     ]
    },
    {
     "name": "stderr",
     "output_type": "stream",
     "text": [
      "C:\\Users\\user\\AppData\\Local\\Temp\\ipykernel_23960\\2403408260.py:3: DeprecationWarning: `search` method is deprecated and will be removed in the future. Use `query_points` instead.\n",
      "  hits = qdrant.search(\n"
     ]
    }
   ],
   "source": [
    "# Search time \n",
    "\n",
    "hits = qdrant.search(\n",
    "    collection_name=\"bbc_news\",\n",
    "    query_vector=encoder.encode(user_prompt).tolist(),\n",
    "    limit=3\n",
    ")\n",
    "for hit in hits:\n",
    "  print(hit.payload, \"score:\", hit.score)"
   ]
  },
  {
   "cell_type": "code",
   "execution_count": 14,
   "id": "33243e5d-9e0d-4ec4-98e9-3fc56b8bdb10",
   "metadata": {},
   "outputs": [
    {
     "data": {
      "text/plain": [
       "[{'category': 'business',\n",
       "  'text': 'stock market eyes japan recovery japanese shares have ended the year at their highest level since 13 july amidst hopes of an economic recovery during 2005.  the nikkei index of leading shares gained 7.6% during the year to close at 11 488.76 points. in 2005 it  will rise toward 13 000   predicted morgan stanley equity strategist naoki kamiyama. the optimism in the financial markets contrast sharply with pessimism in the japanese business community. earlier this month  the quarterly tankan survey of japanese manufacturers found that business confidence had weakened for the first time since march 2003.  slower economic growth  rising oil prices  a stronger yen and weaker exports were blamed for the fall in confidence. despite this  traders expect strength in the global economy to benefit japan  which has been close to sliding into recession in recent months. structural reform within japan and an anticipated end to the banking sector s bad debt problems should also help  they say.'},\n",
       " {'category': 'business',\n",
       "  'text': 'irish markets reach all-time high irish shares have risen to a record high  with investors persuaded to buy into the market by low inflation and strong growth forecasts.  the iseq index of leading shares closed up 23 points to 6661.89 on thursday  fuelled by strong growth in banking and financial stocks. a fall in the rate of inflation to 2.3% in january gave a fresh boost to shares which have advanced 4% this month. the economy is set for strong growth in 2005 while interest rates remain low.  several of ireland s biggest companies saw their market value hit recent highs on thursday. allied irish banks  ireland s biggest company by capitalisation  touched a five year peak while bank of ireland shares rose to their highest level since august 2002.  telecoms firm eircom  which recently revealed that it would re-enter the irish mobile phone market  hit a yearly high. analysts said that economic conditions were benign and irish shares were still trading at a discount to other european markets.  ireland ticks all the boxes as far as international investors are concerned   roy asher  chief investment officer of hibernian investment managers  told reuters.  buoyant economic conditions are set to continue in ireland over the next few years and irish equities continue to offer quality growth at a reasonable valuation.   bernard mcalinden  head of equity research at ncb stockbrokers  said equities represented good value compared to other investments.  it is still looking good   he told reuters.  we have seen good economic data on ireland which benefits the financial stocks.  ireland s economic  miracle  is enjoying a second wind  with 5% growth forecast for 2005 and 2006. the economy cooled markedly between 2001 and 2003 after enjoying spectacular growth of more than 10% in 2000. however  it has bounced back strongly with growth of just under 5% expected in 2004.'},\n",
       " {'category': 'business',\n",
       "  'text': 'us interest rates increased to 2% us interest rates are to rise for the fourth time in five months  in a widely anticipated move.  the federal reserve has raised its key federal funds rate by a quarter percentage point to 2% in light of mounting evidence that the us economy is regaining steam. us companies created twice as many jobs as expected in october while exports hit record levels in september. analysts said a clear-cut victory for president bush in last week s election paved the way for a rise. another rise could be in store for december  some economists warned.  the fed s open market committee - which sets interest rate policy in the us - voted unanimously in favour of a quarter point rise. the fed has been gradually easing rates up since the summer  with quarter percentage point rises in june  august and september.  the central bank has been acting to restrain inflationary pressures while being careful not to obstruct economic growth. the fed did not rule out raising rates once again in december but noted that any future increases would take place at a  measured  pace. in a statement  the fed said that long-term inflation pressures remained  well contained  while the us economy appeared to be  growing at a moderate pace despite the rise in energy prices . financial analysts broadly welcomed the fed s move and shares traded largely flat. the dow jones industrial average closed down 0.89 points  or 0.01%  at 10 385.48.  recent evidence has pointed to an upturn in the us economy. us firms created 337 000 jobs last month  twice the amount expected  while exports reached record levels in september. the economy grew 3.7% in the third quarter  slower than forecast  but an improvement on the 3.3% growth seen in the second quarter. analysts claimed the fed s assessment of future economic growth was a positive one but stressed that the jury was still out on the prospect of a further rise in december.   let s wait until we see how growth and employment bear up under the fourth quarter s energy price drag before concluding that the fed has more work to do in 2005   said avery shenfeld  senior economist at cibc world markets.   i think the federal reserve does not want to rock the boat and is using a gradual approach in raising the interest rate   said sung won sohn  chief us economist for wells fargo bank.  the economy is doing a bit better right now but there are still some concerns about geopolitics  employment and the price of oil   he added. the further rise in us rates is unlikely to have a direct bearing on uk monetary policy. the bank of england (boe) has kept interest rates on hold at 4.75% for the past three months  leading some commentators to argue that rates may have peaked. in a report published on wednesday  the bank said that with rates at their current level  inflation would rise to its 2% target within two years. however  boe governor mervyn king warned only last month that the era of consistently low inflation and low unemployment may be coming to an end.'}]"
      ]
     },
     "execution_count": 14,
     "metadata": {},
     "output_type": "execute_result"
    }
   ],
   "source": [
    "# define a variable to hold the search results\n",
    "search_results = [hit.payload for hit in hits]\n",
    "search_results"
   ]
  },
  {
   "cell_type": "code",
   "execution_count": 15,
   "id": "e6c2b91e",
   "metadata": {},
   "outputs": [
    {
     "name": "stdout",
     "output_type": "stream",
     "text": [
      "ChatCompletionMessage(content=\"The stock market reacted positively to major banking news. In Ireland, the Irish stock market reached an all-time high, with the ISEQ index closing up 23 points to 6661.89, fueled by strong growth in banking and financial stocks. Allied Irish Banks, Ireland's largest company by capitalization, touched a five-year peak, while Bank of Ireland shares rose to their highest level since August 2002.\\n\\nIn the US, the Federal Reserve raised interest rates by a quarter percentage point to 2%, in line with expectations, as the US economy is regaining steam. The Fed cited mounting evidence of economic growth, including the creation of twice as many jobs as expected in October and record exports in September. Analysts welcomed the move, but noted that the jury was still out on the prospect of a further rise in December.\\n\\nIn the UK, the Bank of England kept interest rates on hold at 4.75% for the third month in a row, with Governor Mervyn King warning that the era of consistently low inflation and low unemployment may be coming to an end.<|eot_id|>\", refusal=None, role='assistant', annotations=None, audio=None, function_call=None, tool_calls=None)\n"
     ]
    }
   ],
   "source": [
    "# Now time to connect to the local large language model\n",
    "from openai import OpenAI\n",
    "client = OpenAI(\n",
    "    base_url=\"http://127.0.0.1:8080/v1\", # \"http://<Your api-server IP>:port\"\n",
    "    api_key = \"sk-no-key-required\"\n",
    ")\n",
    "completion = client.chat.completions.create(\n",
    "    model=\"LLaMA_CPP\",\n",
    "    messages=[\n",
    "        {\"role\": \"system\", \"content\": \"You are chatbot, a news specialist. Your top priority is to help guide users to the most relevant news articles based on their queries.\"},\n",
    "        {\"role\": \"user\", \"content\": user_prompt},\n",
    "        {\"role\": \"assistant\", \"content\": str(search_results)}\n",
    "    ]\n",
    ")\n",
    "print(completion.choices[0].message)"
   ]
  }
 ],
 "metadata": {
  "kernelspec": {
   "display_name": ".venv",
   "language": "python",
   "name": "python3"
  },
  "language_info": {
   "codemirror_mode": {
    "name": "ipython",
    "version": 3
   },
   "file_extension": ".py",
   "mimetype": "text/x-python",
   "name": "python",
   "nbconvert_exporter": "python",
   "pygments_lexer": "ipython3",
   "version": "3.12.10"
  }
 },
 "nbformat": 4,
 "nbformat_minor": 5
}
